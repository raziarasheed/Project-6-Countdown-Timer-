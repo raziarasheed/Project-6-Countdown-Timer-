{
  "nbformat": 4,
  "nbformat_minor": 0,
  "metadata": {
    "colab": {
      "provenance": [],
      "authorship_tag": "ABX9TyPDIvfggUKAu7mWXkeQ1dRJ",
      "include_colab_link": true
    },
    "kernelspec": {
      "name": "python3",
      "display_name": "Python 3"
    },
    "language_info": {
      "name": "python"
    }
  },
  "cells": [
    {
      "cell_type": "markdown",
      "metadata": {
        "id": "view-in-github",
        "colab_type": "text"
      },
      "source": [
        "<a href=\"https://colab.research.google.com/github/raziarasheed/Project-6-Countdown-Timer-/blob/main/Project_6_Countdown_Timer_Python_Project.ipynb\" target=\"_parent\"><img src=\"https://colab.research.google.com/assets/colab-badge.svg\" alt=\"Open In Colab\"/></a>"
      ]
    },
    {
      "cell_type": "code",
      "execution_count": 1,
      "metadata": {
        "colab": {
          "base_uri": "https://localhost:8080/"
        },
        "id": "6YfQ6pOBFwlh",
        "outputId": "f708f250-c3df-4d5d-90e8-75d451ea253a"
      },
      "outputs": [
        {
          "output_type": "stream",
          "name": "stdout",
          "text": [
            "Enter the time in seconds: 10\n",
            "Time's up!\n"
          ]
        }
      ],
      "source": [
        "import time\n",
        "\n",
        "def countdown_timer(seconds):\n",
        "    while seconds > 0:\n",
        "        mins, secs = divmod(seconds, 60)  # Divide seconds into minutes and seconds\n",
        "        timer = '{:02d}:{:02d}'.format(mins, secs)  # Format as MM:SS\n",
        "        print(timer, end=\"\\r\")  # Print on the same line\n",
        "        time.sleep(1)  # Wait for 1 second\n",
        "        seconds -= 1\n",
        "\n",
        "    print(\"Time's up!\")\n",
        "\n",
        "if __name__ == \"__main__\":\n",
        "    try:\n",
        "        seconds = int(input(\"Enter the time in seconds: \"))\n",
        "        countdown_timer(seconds)\n",
        "    except ValueError:\n",
        "        print(\"Please enter an integer value for seconds.\")"
      ]
    }
  ]
}